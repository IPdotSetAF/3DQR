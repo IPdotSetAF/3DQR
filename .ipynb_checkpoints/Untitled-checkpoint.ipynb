{
 "cells": [
  {
   "cell_type": "code",
   "execution_count": 16,
   "id": "d857b22e",
   "metadata": {
    "scrolled": true
   },
   "outputs": [
    {
     "name": "stdout",
     "output_type": "stream",
     "text": [
      "Requirement already satisfied: qrcode[pil] in c:\\users\\ip.af\\anaconda3\\lib\\site-packages (7.3.1)\n",
      "Requirement already satisfied: colorama in c:\\users\\ip.af\\anaconda3\\lib\\site-packages (from qrcode[pil]) (0.4.4)\n",
      "Requirement already satisfied: pillow in c:\\users\\ip.af\\anaconda3\\lib\\site-packages (from qrcode[pil]) (9.0.1)\n",
      "Requirement already satisfied: Pillow in c:\\users\\ip.af\\anaconda3\\lib\\site-packages (9.0.1)\n"
     ]
    }
   ],
   "source": [
    "!pip install qrcode[pil]\n",
    "!pip install Pillow"
   ]
  },
  {
   "cell_type": "code",
   "execution_count": 36,
   "id": "d0089289",
   "metadata": {},
   "outputs": [],
   "source": [
    "from PIL import Image\n",
    "\n",
    "def combine_images(image_paths, output_path):\n",
    "    images = [Image.open(path) for path in image_paths]\n",
    "\n",
    "    combined_image = Image.new('RGB', images[0].size)\n",
    "\n",
    "    for x in range(combined_image.width):\n",
    "        for y in range(combined_image.height):\n",
    "            r_sum, g_sum, b_sum = 0, 0, 0\n",
    "            for image in images:\n",
    "                r, g, b = image.getpixel((x, y))\n",
    "                r_sum += r\n",
    "                g_sum += g\n",
    "                b_sum += b\n",
    "#                 print(f'{r},{g},{b}|', end=\"\")\n",
    "\n",
    "#             print(f'_{r_sum},{g_sum},{b_sum}_')\n",
    "#             r_avg = r_sum // len(images)\n",
    "#             g_avg = g_sum // len(images)\n",
    "#             b_avg = b_sum // len(images)\n",
    "\n",
    "#             combined_image.putpixel((x, y), (r_avg, g_avg, b_avg))\n",
    "            combined_image.putpixel((x, y), (255- r_sum, 255-g_sum, 255-b_sum))\n",
    "\n",
    "    combined_image.save(output_path)"
   ]
  },
  {
   "cell_type": "code",
   "execution_count": 39,
   "id": "7c0b0090",
   "metadata": {},
   "outputs": [
    {
     "name": "stdout",
     "output_type": "stream",
     "text": [
      "Combined QR code image saved as 'combined_qr_codes.png'\n",
      "Normal QR code image saved as normal_qr_code.png\n"
     ]
    }
   ],
   "source": [
    "import qrcode\n",
    "\n",
    "def generate_qr_code(text, filename, fill_color, back_color):\n",
    "    qr = qrcode.QRCode(\n",
    "        version=1,\n",
    "        error_correction=qrcode.constants.ERROR_CORRECT_L,\n",
    "        box_size=10,\n",
    "        border=4,\n",
    "    )\n",
    "    qr.add_data(text)\n",
    "    qr.make(fit=True)\n",
    "\n",
    "    img = qr.make_image(fill_color=fill_color, back_color=back_color)\n",
    "    img.save(filename)\n",
    "\n",
    "def divide_text(text, num_parts):\n",
    "    part_length = len(text) // num_parts\n",
    "    return [text[i * part_length : (i + 1) * part_length] for i in range(num_parts)]\n",
    "\n",
    "def generate_rgb_qr_codes(input_text):\n",
    "    parts = divide_text(input_text, 3)\n",
    "\n",
    "    qr_paths = []\n",
    "    for i, part in enumerate(parts):\n",
    "        filename = f\"qrcode_part_{i}.png\"\n",
    "        fill_color = \"red\" if i == 0 else \"lime\" if i == 1 else \"blue\"\n",
    "        generate_qr_code(part, filename, fill_color, \"black\")\n",
    "        qr_paths.append(filename)\n",
    "\n",
    "    combined_output_path = \"combined_qr_codes.png\"\n",
    "    combine_images(qr_paths, combined_output_path)\n",
    "\n",
    "    return combined_output_path\n",
    "\n",
    "if __name__ == \"__main__\":\n",
    "    input_text = \"This is the text to be divided and encoded into QR codes.This is the text to 4be divided and encoded into QR codes.This is the text to be divided and en9coded into QR codes.This is the text to be divided and encoded into QR codes.This is the text5 to be divided and encoded into QR codes.This is the text to be divided and encoded into QR codes.\"\n",
    "    combined_qr_path = generate_rgb_qr_codes(input_text)\n",
    "    print(f\"Combined QR code image saved as '{combined_qr_path}'\")\n",
    "    generate_qr_code(input_text, \"normal_qr_code.png\", \"black\", \"white\")\n",
    "    print(f\"Normal QR code image saved as normal_qr_code.png\")\n"
   ]
  }
 ],
 "metadata": {
  "kernelspec": {
   "display_name": "Python 3 (ipykernel)",
   "language": "python",
   "name": "python3"
  },
  "language_info": {
   "codemirror_mode": {
    "name": "ipython",
    "version": 3
   },
   "file_extension": ".py",
   "mimetype": "text/x-python",
   "name": "python",
   "nbconvert_exporter": "python",
   "pygments_lexer": "ipython3",
   "version": "3.9.12"
  }
 },
 "nbformat": 4,
 "nbformat_minor": 5
}
